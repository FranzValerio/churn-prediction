{
 "cells": [
  {
   "cell_type": "markdown",
   "metadata": {},
   "source": [
    "# Métricas de evaluación\n",
    "\n",
    "Como complemento al proyecto de predicción de abandono de clientes, nos dedicaremos a hablar sobre las formas de evaluar el desempeño de un modelo de machine learning en general. Estas pruebas de desempeño se conocen como *métricas de evaluación*.\n",
    "\n",
    "\n",
    "<center>\n",
    "    <figure>\n",
    "    <img src = \"https://www.extradigital.co.uk/marketing-assets/articles/articles-l/metrics-lg.png\" alt=\"Métricas de evaluación para modelos de clasificación.\" style=\"width:700px;height:350px;\">\n",
    "    <figcaption> Las métricas son fundamentales para hacer modelos de machine learning. </figcaption>\n",
    "    </figure>\n",
    "</center>\n",
    "\n",
    "Si bien la preparación y análisis previo de los datos y el entrenamiento de un modelo de machine learning, es de igual importancia medir el rendimiento de este modelo entrenado. Utilizar distintas métricas para evaluar el rendimiento nos permite mejorar el poder de predicción general de nuestro modelo, antes de ponerlo en marcha para la producción con datos no antes vistos. \n",
    "\n",
    "El no utilizar una evaluación adecuada, con la ayuda de distintas métricas, puede generar un problema al momento de desplegar el modelo en producción y al enfrentarlo con datos nunca antes vistos. En general, esto ocurre porque los modelos no aprenden, sino que *memorizan*; por lo tanto, no pueden generalizar de manera adecuada y dan lugar a predicciones incorrectas.\n",
    "\n",
    "Consideremos el proyecto de la predicción de la tasa de abandono de los clientes de la compañía de telecomunicaciones. Para determinar qué tan bueno es el modelo, utilizamos una *métrica*, es decir, una función que tome las predicciones que genera el modelo y que las compare con los valores reales. Con esta comparación, se calcula el desempeño del modelo. \n",
    "\n",
    "Sabemos que esto resulta muy útil, ya que podemos utilizar métricas para comparar distintos modelos y seleccionar el que tenga el mejor desempeño. Para el caso de las clasificaciones binarias, consideraremos las métricas de evaluación más comunes.\n",
    "\n",
    "## Accuracy\n",
    "\n"
   ]
  },
  {
   "cell_type": "code",
   "execution_count": null,
   "metadata": {},
   "outputs": [],
   "source": []
  }
 ],
 "metadata": {
  "language_info": {
   "name": "python"
  }
 },
 "nbformat": 4,
 "nbformat_minor": 2
}
